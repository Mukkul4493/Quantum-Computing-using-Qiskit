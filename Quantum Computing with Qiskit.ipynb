{
  "nbformat": 4,
  "nbformat_minor": 0,
  "metadata": {
    "kernelspec": {
      "display_name": "Python 3",
      "language": "python",
      "name": "python3"
    },
    "language_info": {
      "codemirror_mode": {
        "name": "ipython",
        "version": 3
      },
      "file_extension": ".py",
      "mimetype": "text/x-python",
      "name": "python",
      "nbconvert_exporter": "python",
      "pygments_lexer": "ipython3",
      "version": "3.8.3"
    },
    "colab": {
      "name": "Programming a Quantum Computer with Qiskit.ipynb",
      "provenance": [],
      "collapsed_sections": []
    }
  },
  "cells": [
    {
      "cell_type": "markdown",
      "metadata": {
        "id": "74fz9r9nKEaN",
        "colab_type": "text"
      },
      "source": [
        "# Fundamentals of Quantum Computation"
      ]
    },
    {
      "cell_type": "markdown",
      "metadata": {
        "id": "dVLMEmzyKEaO",
        "colab_type": "text"
      },
      "source": [
        "## Basic Arithmatic Operations & Complex Numbers"
      ]
    },
    {
      "cell_type": "code",
      "metadata": {
        "id": "hMOMu9RwKEaP",
        "colab_type": "code",
        "colab": {
          "base_uri": "https://localhost:8080/",
          "height": 34
        },
        "outputId": "cf4db37e-9587-44dc-dd1a-2f8a6bfb8ae9"
      },
      "source": [
        "3*5"
      ],
      "execution_count": 1,
      "outputs": [
        {
          "output_type": "execute_result",
          "data": {
            "text/plain": [
              "15"
            ]
          },
          "metadata": {
            "tags": []
          },
          "execution_count": 1
        }
      ]
    },
    {
      "cell_type": "code",
      "metadata": {
        "id": "qijEV67OKEaT",
        "colab_type": "code",
        "colab": {
          "base_uri": "https://localhost:8080/",
          "height": 34
        },
        "outputId": "48cb79cd-2911-4ec5-e100-1caae27200b7"
      },
      "source": [
        "8/4"
      ],
      "execution_count": 2,
      "outputs": [
        {
          "output_type": "execute_result",
          "data": {
            "text/plain": [
              "2.0"
            ]
          },
          "metadata": {
            "tags": []
          },
          "execution_count": 2
        }
      ]
    },
    {
      "cell_type": "markdown",
      "metadata": {
        "id": "xT_CtmFqKEaW",
        "colab_type": "text"
      },
      "source": [
        "Complex numbers are always of the form\n",
        "\n",
        "\\begin{align}\n",
        "\\alpha = a + bi\n",
        "\\end{align}\n"
      ]
    },
    {
      "cell_type": "code",
      "metadata": {
        "id": "Mvxz3cH-KEaX",
        "colab_type": "code",
        "colab": {
          "base_uri": "https://localhost:8080/",
          "height": 34
        },
        "outputId": "81d3441f-09d7-48bd-c134-fbe3ce551e7b"
      },
      "source": [
        "1j*1j"
      ],
      "execution_count": 3,
      "outputs": [
        {
          "output_type": "execute_result",
          "data": {
            "text/plain": [
              "(-1+0j)"
            ]
          },
          "metadata": {
            "tags": []
          },
          "execution_count": 3
        }
      ]
    },
    {
      "cell_type": "code",
      "metadata": {
        "id": "rRWev1FfKEaa",
        "colab_type": "code",
        "colab": {}
      },
      "source": [
        "z=4+8j"
      ],
      "execution_count": 4,
      "outputs": []
    },
    {
      "cell_type": "code",
      "metadata": {
        "id": "BfpztQcmKEac",
        "colab_type": "code",
        "colab": {}
      },
      "source": [
        "w=5-5j"
      ],
      "execution_count": 5,
      "outputs": []
    },
    {
      "cell_type": "code",
      "metadata": {
        "id": "7soa2opgKEag",
        "colab_type": "code",
        "colab": {}
      },
      "source": [
        "import numpy as np"
      ],
      "execution_count": 6,
      "outputs": []
    },
    {
      "cell_type": "code",
      "metadata": {
        "id": "QkI2z-7UKEai",
        "colab_type": "code",
        "colab": {
          "base_uri": "https://localhost:8080/",
          "height": 34
        },
        "outputId": "91b83796-c288-449d-c914-e03f15273477"
      },
      "source": [
        "print(\"Real of z: \",np.real(z))"
      ],
      "execution_count": 7,
      "outputs": [
        {
          "output_type": "stream",
          "text": [
            "Real of z:  4.0\n"
          ],
          "name": "stdout"
        }
      ]
    },
    {
      "cell_type": "code",
      "metadata": {
        "id": "KrgXghTTKEal",
        "colab_type": "code",
        "colab": {
          "base_uri": "https://localhost:8080/",
          "height": 34
        },
        "outputId": "55b0ceb9-03b7-406f-bef2-e289eaed40c5"
      },
      "source": [
        "print(\"Imag of : \",np.imag(w))"
      ],
      "execution_count": 8,
      "outputs": [
        {
          "output_type": "stream",
          "text": [
            "Imag of :  -5.0\n"
          ],
          "name": "stdout"
        }
      ]
    },
    {
      "cell_type": "code",
      "metadata": {
        "id": "pGCCZ-4bKEao",
        "colab_type": "code",
        "colab": {
          "base_uri": "https://localhost:8080/",
          "height": 34
        },
        "outputId": "3aac8158-fbe9-4cc6-ac6c-2b05836d13a0"
      },
      "source": [
        "z+w"
      ],
      "execution_count": 9,
      "outputs": [
        {
          "output_type": "execute_result",
          "data": {
            "text/plain": [
              "(9+3j)"
            ]
          },
          "metadata": {
            "tags": []
          },
          "execution_count": 9
        }
      ]
    },
    {
      "cell_type": "markdown",
      "metadata": {
        "id": "APpnBTpHKEas",
        "colab_type": "text"
      },
      "source": [
        "## Complex conjugate"
      ]
    },
    {
      "cell_type": "code",
      "metadata": {
        "id": "3zHT8Fr3KEas",
        "colab_type": "code",
        "colab": {
          "base_uri": "https://localhost:8080/",
          "height": 34
        },
        "outputId": "406f4919-6084-4943-82b4-015672d20371"
      },
      "source": [
        "np.conj(w)"
      ],
      "execution_count": 10,
      "outputs": [
        {
          "output_type": "execute_result",
          "data": {
            "text/plain": [
              "(5+5j)"
            ]
          },
          "metadata": {
            "tags": []
          },
          "execution_count": 10
        }
      ]
    },
    {
      "cell_type": "code",
      "metadata": {
        "id": "-hMs_nhJKEav",
        "colab_type": "code",
        "colab": {
          "base_uri": "https://localhost:8080/",
          "height": 34
        },
        "outputId": "cdd630d0-e406-44fc-d20e-5959b1f69129"
      },
      "source": [
        "w"
      ],
      "execution_count": 11,
      "outputs": [
        {
          "output_type": "execute_result",
          "data": {
            "text/plain": [
              "(5-5j)"
            ]
          },
          "metadata": {
            "tags": []
          },
          "execution_count": 11
        }
      ]
    },
    {
      "cell_type": "markdown",
      "metadata": {
        "id": "hGiBNIFmKEay",
        "colab_type": "text"
      },
      "source": [
        "## Norms/Absolute Values\n",
        "\n",
        "\n",
        "\n",
        "\\begin{align} ||z|| &= \\sqrt{zz^*} = \\sqrt{|z|^2},\\\\ ||w|| &= \\sqrt{ww^*} = \\sqrt{|w|^2}, \\end{align} "
      ]
    },
    {
      "cell_type": "code",
      "metadata": {
        "id": "RzB1tKvEKEaz",
        "colab_type": "code",
        "colab": {
          "base_uri": "https://localhost:8080/",
          "height": 34
        },
        "outputId": "7205ec9c-8a90-49a5-e44a-b4c52c71cda1"
      },
      "source": [
        "np.abs(z)"
      ],
      "execution_count": 12,
      "outputs": [
        {
          "output_type": "execute_result",
          "data": {
            "text/plain": [
              "8.94427190999916"
            ]
          },
          "metadata": {
            "tags": []
          },
          "execution_count": 12
        }
      ]
    },
    {
      "cell_type": "code",
      "metadata": {
        "id": "HXDQpeo4KEa1",
        "colab_type": "code",
        "colab": {
          "base_uri": "https://localhost:8080/",
          "height": 34
        },
        "outputId": "66de4cc4-0b49-464d-bd25-0c7c4cc14fd3"
      },
      "source": [
        "np.abs(w)"
      ],
      "execution_count": 13,
      "outputs": [
        {
          "output_type": "execute_result",
          "data": {
            "text/plain": [
              "7.0710678118654755"
            ]
          },
          "metadata": {
            "tags": []
          },
          "execution_count": 13
        }
      ]
    },
    {
      "cell_type": "markdown",
      "metadata": {
        "id": "6fr8FVU9KEa4",
        "colab_type": "text"
      },
      "source": [
        "## Row Vectors, Column Vectors, and Bra-Ket Notation"
      ]
    },
    {
      "cell_type": "markdown",
      "metadata": {
        "id": "mzukmZ21KEa4",
        "colab_type": "text"
      },
      "source": [
        "\\begin{align} \\text{Column Vector:} \\ \\begin{pmatrix}\n",
        "a_1 \\\\ a_2 \\\\ \\vdots \\\\ a_n\n",
        "\\end{pmatrix} \n",
        "\\quad \\quad \\text{Row Vector:} \\ \\begin{pmatrix}\n",
        "a_1, & a_2, & \\cdots, & a_n\n",
        "\\end{pmatrix} \\end{align}\n",
        "\n"
      ]
    },
    {
      "cell_type": "code",
      "metadata": {
        "id": "aRvMCbzWKEa5",
        "colab_type": "code",
        "colab": {}
      },
      "source": [
        "row_vec= np.array([1,2+2j,3])"
      ],
      "execution_count": 14,
      "outputs": []
    },
    {
      "cell_type": "markdown",
      "metadata": {
        "id": "ap6c0XQYKEa8",
        "colab_type": "raw"
      },
      "source": [
        "row_vec"
      ]
    },
    {
      "cell_type": "markdown",
      "metadata": {
        "id": "ZFJSyG0vKEa8",
        "colab_type": "raw"
      },
      "source": [
        "Row vectors in quantum mechanics are also called **bra-vectors**, and are denoted as follows:\n",
        "\n",
        "\\begin{align} \\langle A| = \\begin{pmatrix}\n",
        "a_1, & a_2, \\cdots, & a_n\n",
        "\\end{pmatrix} \\end{align}\n",
        "\n",
        "Column vectors are also called **ket-vectors** in quantum mechanics denoted as follows:\n",
        "\n",
        "\\begin{align} |B\\rangle = \\begin{pmatrix}\n",
        "b_1 \\\\ b_2 \\\\ \\vdots \\\\ b_n\n",
        "\\end{pmatrix} \\end{align}\n",
        "\n",
        "In general, if we have a column vector, i.e. a ket-vector:\n",
        "\n",
        "\\begin{align} |A\\rangle = \\begin{pmatrix}\n",
        "a_1 \\\\ a_2 \\\\ \\vdots \\\\ a_n\n",
        "\\end{pmatrix} \\end{align}\n",
        "\n",
        "the corresponding bra-vector:\n",
        "\n",
        "\\begin{align} \\langle A| = \\begin{pmatrix}\n",
        "a_1^*, & a_2^*, & \\cdots, & a_n^*\n",
        "\\end{pmatrix} \\end{align}\n"
      ]
    },
    {
      "cell_type": "code",
      "metadata": {
        "id": "ZvsRw4UdKEa8",
        "colab_type": "code",
        "colab": {}
      },
      "source": [
        "clomn_vec=np.array([[1],[2+2j],[3j]])"
      ],
      "execution_count": 15,
      "outputs": []
    },
    {
      "cell_type": "code",
      "metadata": {
        "id": "kZ3EnR_1KEa_",
        "colab_type": "code",
        "colab": {
          "base_uri": "https://localhost:8080/",
          "height": 67
        },
        "outputId": "078e80b0-5737-47c6-889f-5dd35ca29601"
      },
      "source": [
        "clomn_vec"
      ],
      "execution_count": 16,
      "outputs": [
        {
          "output_type": "execute_result",
          "data": {
            "text/plain": [
              "array([[1.+0.j],\n",
              "       [2.+2.j],\n",
              "       [0.+3.j]])"
            ]
          },
          "metadata": {
            "tags": []
          },
          "execution_count": 16
        }
      ]
    },
    {
      "cell_type": "markdown",
      "metadata": {
        "id": "QDCEqLtZKEbC",
        "colab_type": "text"
      },
      "source": [
        "## Inner Product\n",
        "\n",
        "\\begin{align} \\langle A| = \\begin{pmatrix}\n",
        "a_1, & a_2, & \\cdots, & a_n\n",
        "\\end{pmatrix}, \\quad \\quad\n",
        "|B\\rangle = \\begin{pmatrix}\n",
        "b_1 \\\\ b_2 \\\\ \\vdots \\\\ b_n\n",
        "\\end{pmatrix} \\end{align}\n",
        "\n",
        "Taking the inner product of $\\langle A|$ and $|B\\rangle$ gives the following:\n",
        "\n",
        "\\begin{align} \\langle A| B \\rangle &= \\begin{pmatrix} \n",
        "a_1, & a_2, & \\cdots, & a_n\n",
        "\\end{pmatrix}\n",
        "\\begin{pmatrix}\n",
        "b_1 \\\\ b_2 \\\\ \\vdots \\\\ b_n\n",
        "\\end{pmatrix}\\\\\n",
        "&= \n",
        "a_1b_1 + a_2b_2 + \\cdots + a_nb_n\\\\\n",
        "&= \\sum_{i=1}^n a_ib_i\n",
        "\\end{align}"
      ]
    },
    {
      "cell_type": "code",
      "metadata": {
        "id": "y-xKzRF5KEbC",
        "colab_type": "code",
        "colab": {}
      },
      "source": [
        "# Define the 4x1 matrix version of a column vector (instead of using the np.array() version):\n",
        "A = np.array([[1],[4-5j],[5],[-3]])"
      ],
      "execution_count": 17,
      "outputs": []
    },
    {
      "cell_type": "code",
      "metadata": {
        "id": "9iMN-CxRKEbL",
        "colab_type": "code",
        "colab": {}
      },
      "source": [
        "# Define B as a 1x4 matrix\n",
        "B = np.array([1,5,-4j,-1j])"
      ],
      "execution_count": 18,
      "outputs": []
    },
    {
      "cell_type": "code",
      "metadata": {
        "id": "nAce4n8kKEbW",
        "colab_type": "code",
        "colab": {
          "base_uri": "https://localhost:8080/",
          "height": 34
        },
        "outputId": "2762373e-d8d0-4c66-b423-706f6e70d1e9"
      },
      "source": [
        "# Compute <B|A>\n",
        "np.dot(B,A)"
      ],
      "execution_count": 19,
      "outputs": [
        {
          "output_type": "execute_result",
          "data": {
            "text/plain": [
              "array([21.-42.j])"
            ]
          },
          "metadata": {
            "tags": []
          },
          "execution_count": 19
        }
      ]
    },
    {
      "cell_type": "markdown",
      "metadata": {
        "id": "RRcl0TYrKEbb",
        "colab_type": "text"
      },
      "source": [
        "## Matrices"
      ]
    },
    {
      "cell_type": "markdown",
      "metadata": {
        "id": "y-Jt4VJoKEbc",
        "colab_type": "text"
      },
      "source": [
        "\n",
        "\\begin{align}\n",
        "M = \\begin{pmatrix}\n",
        "2-i & -3 \\\\\n",
        "-5i & 2\n",
        "\\end{pmatrix}\n",
        "\\end{align}"
      ]
    },
    {
      "cell_type": "code",
      "metadata": {
        "id": "4PnZnNAPKEbd",
        "colab_type": "code",
        "colab": {
          "base_uri": "https://localhost:8080/",
          "height": 50
        },
        "outputId": "1bba6377-e20b-4453-d556-dd82495329ef"
      },
      "source": [
        "M = np.array([[2-1j, -3], [-5j,2]])\n",
        "print(M)"
      ],
      "execution_count": 20,
      "outputs": [
        {
          "output_type": "stream",
          "text": [
            "[[ 2.-1.j -3.+0.j]\n",
            " [-0.-5.j  2.+0.j]]\n"
          ],
          "name": "stdout"
        }
      ]
    },
    {
      "cell_type": "code",
      "metadata": {
        "id": "EuT-YoNNKEbj",
        "colab_type": "code",
        "colab": {
          "base_uri": "https://localhost:8080/",
          "height": 50
        },
        "outputId": "edebb6f5-2efc-4cc6-a6bb-b6b25d8488fc"
      },
      "source": [
        "M =  np.matrix([[2-1j,-3],[-5j,2]])\n",
        "print(M)"
      ],
      "execution_count": 21,
      "outputs": [
        {
          "output_type": "stream",
          "text": [
            "[[ 2.-1.j -3.+0.j]\n",
            " [-0.-5.j  2.+0.j]]\n"
          ],
          "name": "stdout"
        }
      ]
    },
    {
      "cell_type": "markdown",
      "metadata": {
        "id": "J--7D3CNKEbu",
        "colab_type": "text"
      },
      "source": [
        "Hermitian conjugates are given by taking the conjugate transpose of the matrix"
      ]
    },
    {
      "cell_type": "code",
      "metadata": {
        "id": "ICdrHpG-KEbv",
        "colab_type": "code",
        "colab": {
          "base_uri": "https://localhost:8080/",
          "height": 50
        },
        "outputId": "6ba6b7d0-e2b6-4435-b373-5f34ed35725c"
      },
      "source": [
        "M.H"
      ],
      "execution_count": 22,
      "outputs": [
        {
          "output_type": "execute_result",
          "data": {
            "text/plain": [
              "matrix([[ 2.+1.j, -0.+5.j],\n",
              "        [-3.-0.j,  2.-0.j]])"
            ]
          },
          "metadata": {
            "tags": []
          },
          "execution_count": 22
        }
      ]
    },
    {
      "cell_type": "markdown",
      "metadata": {
        "id": "urBinMWVKEb1",
        "colab_type": "text"
      },
      "source": [
        "## Tensor Products of Matrices"
      ]
    },
    {
      "cell_type": "markdown",
      "metadata": {
        "id": "-J0_yIh6KEb2",
        "colab_type": "text"
      },
      "source": [
        "\\begin{align}\n",
        "\\begin{pmatrix}\n",
        "a & b \\\\\n",
        "c & d\n",
        "\\end{pmatrix} \\otimes \n",
        "\\begin{pmatrix}\n",
        "x & y \\\\\n",
        "z & w\n",
        "\\end{pmatrix} = \n",
        "\\begin{pmatrix}\n",
        "a \\begin{pmatrix}\n",
        "x & y \\\\\n",
        "z & w\n",
        "\\end{pmatrix} & b \\begin{pmatrix}\n",
        "x & y \\\\\n",
        "z & w\n",
        "\\end{pmatrix} \\\\\n",
        "c \\begin{pmatrix}\n",
        "x & y \\\\\n",
        "z & w\n",
        "\\end{pmatrix} & d \\begin{pmatrix}\n",
        "x & y \\\\\n",
        "z & w\n",
        "\\end{pmatrix}\n",
        "\\end{pmatrix} = \n",
        "\\begin{pmatrix}\n",
        "ax & ay & bx & by \\\\\n",
        "az & aw & bz & bw \\\\\n",
        "cx & cy & dx & dy \\\\\n",
        "cz & cw & dz & dw\n",
        "\\end{pmatrix}\n",
        "\\end{align}"
      ]
    },
    {
      "cell_type": "code",
      "metadata": {
        "id": "StuNbJO3KEb2",
        "colab_type": "code",
        "colab": {
          "base_uri": "https://localhost:8080/",
          "height": 84
        },
        "outputId": "faa099a0-713c-4da5-e3cc-a3e0b932f27f"
      },
      "source": [
        "np.kron(M,M)"
      ],
      "execution_count": 23,
      "outputs": [
        {
          "output_type": "execute_result",
          "data": {
            "text/plain": [
              "matrix([[  3. -4.j,  -6. +3.j,  -6. +3.j,   9. -0.j],\n",
              "        [ -5.-10.j,   4. -2.j,   0.+15.j,  -6. +0.j],\n",
              "        [ -5.-10.j,   0.+15.j,   4. -2.j,  -6. +0.j],\n",
              "        [-25. +0.j,   0.-10.j,   0.-10.j,   4. +0.j]])"
            ]
          },
          "metadata": {
            "tags": []
          },
          "execution_count": 23
        }
      ]
    },
    {
      "cell_type": "markdown",
      "metadata": {
        "id": "tdRXYWcIKEb-",
        "colab_type": "text"
      },
      "source": [
        "\n",
        "\n",
        "```\n",
        "# This is formatted as code\n",
        "```\n",
        "\n",
        "# Qubits, Bloch Sphere and Basis States"
      ]
    },
    {
      "cell_type": "code",
      "metadata": {
        "id": "unPfkZeKKJ0a",
        "colab_type": "code",
        "colab": {
          "base_uri": "https://localhost:8080/",
          "height": 894
        },
        "outputId": "c49a3a71-9d2e-4733-bca0-aa8d740c8819"
      },
      "source": [
        "pip install qiskit"
      ],
      "execution_count": 24,
      "outputs": [
        {
          "output_type": "stream",
          "text": [
            "Requirement already satisfied: qiskit in /usr/local/lib/python3.6/dist-packages (0.21.0)\n",
            "Requirement already satisfied: qiskit-ignis==0.4.0 in /usr/local/lib/python3.6/dist-packages (from qiskit) (0.4.0)\n",
            "Requirement already satisfied: qiskit-aqua==0.7.5 in /usr/local/lib/python3.6/dist-packages (from qiskit) (0.7.5)\n",
            "Requirement already satisfied: qiskit-ibmq-provider==0.9.0 in /usr/local/lib/python3.6/dist-packages (from qiskit) (0.9.0)\n",
            "Requirement already satisfied: qiskit-terra==0.15.2 in /usr/local/lib/python3.6/dist-packages (from qiskit) (0.15.2)\n",
            "Requirement already satisfied: qiskit-aer==0.6.1 in /usr/local/lib/python3.6/dist-packages (from qiskit) (0.6.1)\n",
            "Requirement already satisfied: scikit-learn>=0.17 in /usr/local/lib/python3.6/dist-packages (from qiskit-ignis==0.4.0->qiskit) (0.22.2.post1)\n",
            "Requirement already satisfied: numpy>=1.13 in /usr/local/lib/python3.6/dist-packages (from qiskit-ignis==0.4.0->qiskit) (1.18.5)\n",
            "Requirement already satisfied: setuptools>=40.1.0 in /usr/local/lib/python3.6/dist-packages (from qiskit-ignis==0.4.0->qiskit) (50.3.0)\n",
            "Requirement already satisfied: scipy!=0.19.1,>=0.19 in /usr/local/lib/python3.6/dist-packages (from qiskit-ignis==0.4.0->qiskit) (1.4.1)\n",
            "Requirement already satisfied: sympy>=1.3 in /usr/local/lib/python3.6/dist-packages (from qiskit-aqua==0.7.5->qiskit) (1.6.2)\n",
            "Requirement already satisfied: networkx>=2.2 in /usr/local/lib/python3.6/dist-packages (from qiskit-aqua==0.7.5->qiskit) (2.5)\n",
            "Requirement already satisfied: h5py in /usr/local/lib/python3.6/dist-packages (from qiskit-aqua==0.7.5->qiskit) (2.10.0)\n",
            "Requirement already satisfied: psutil>=5 in /usr/local/lib/python3.6/dist-packages (from qiskit-aqua==0.7.5->qiskit) (5.4.8)\n",
            "Requirement already satisfied: fastdtw in /usr/local/lib/python3.6/dist-packages (from qiskit-aqua==0.7.5->qiskit) (0.3.4)\n",
            "Requirement already satisfied: pandas in /usr/local/lib/python3.6/dist-packages (from qiskit-aqua==0.7.5->qiskit) (1.0.5)\n",
            "Requirement already satisfied: docplex in /usr/local/lib/python3.6/dist-packages (from qiskit-aqua==0.7.5->qiskit) (2.15.194)\n",
            "Requirement already satisfied: quandl in /usr/local/lib/python3.6/dist-packages (from qiskit-aqua==0.7.5->qiskit) (3.5.2)\n",
            "Requirement already satisfied: yfinance in /usr/local/lib/python3.6/dist-packages (from qiskit-aqua==0.7.5->qiskit) (0.1.54)\n",
            "Requirement already satisfied: dlx in /usr/local/lib/python3.6/dist-packages (from qiskit-aqua==0.7.5->qiskit) (1.0.4)\n",
            "Requirement already satisfied: websockets<8,>=7; python_version <= \"3.6\" in /usr/local/lib/python3.6/dist-packages (from qiskit-ibmq-provider==0.9.0->qiskit) (7.0)\n",
            "Requirement already satisfied: urllib3>=1.21.1 in /usr/local/lib/python3.6/dist-packages (from qiskit-ibmq-provider==0.9.0->qiskit) (1.24.3)\n",
            "Requirement already satisfied: requests>=2.19 in /usr/local/lib/python3.6/dist-packages (from qiskit-ibmq-provider==0.9.0->qiskit) (2.23.0)\n",
            "Requirement already satisfied: requests-ntlm>=1.1.0 in /usr/local/lib/python3.6/dist-packages (from qiskit-ibmq-provider==0.9.0->qiskit) (1.1.0)\n",
            "Requirement already satisfied: nest-asyncio!=1.1.0,>=1.0.0 in /usr/local/lib/python3.6/dist-packages (from qiskit-ibmq-provider==0.9.0->qiskit) (1.4.0)\n",
            "Requirement already satisfied: python-dateutil>=2.8.0 in /usr/local/lib/python3.6/dist-packages (from qiskit-ibmq-provider==0.9.0->qiskit) (2.8.1)\n",
            "Requirement already satisfied: python-constraint>=1.4 in /usr/local/lib/python3.6/dist-packages (from qiskit-terra==0.15.2->qiskit) (1.4.0)\n",
            "Requirement already satisfied: fastjsonschema>=2.10 in /usr/local/lib/python3.6/dist-packages (from qiskit-terra==0.15.2->qiskit) (2.14.5)\n",
            "Requirement already satisfied: dill>=0.3 in /usr/local/lib/python3.6/dist-packages (from qiskit-terra==0.15.2->qiskit) (0.3.2)\n",
            "Requirement already satisfied: retworkx>=0.4.0 in /usr/local/lib/python3.6/dist-packages (from qiskit-terra==0.15.2->qiskit) (0.5.0)\n",
            "Requirement already satisfied: ply>=3.10 in /usr/local/lib/python3.6/dist-packages (from qiskit-terra==0.15.2->qiskit) (3.11)\n",
            "Requirement already satisfied: contextvars>=2.4; python_version < \"3.7\" in /usr/local/lib/python3.6/dist-packages (from qiskit-terra==0.15.2->qiskit) (2.4)\n",
            "Requirement already satisfied: jsonschema>=2.6 in /usr/local/lib/python3.6/dist-packages (from qiskit-terra==0.15.2->qiskit) (2.6.0)\n",
            "Requirement already satisfied: cython>=0.27.1 in /usr/local/lib/python3.6/dist-packages (from qiskit-aer==0.6.1->qiskit) (0.29.21)\n",
            "Requirement already satisfied: pybind11>=2.4 in /usr/local/lib/python3.6/dist-packages (from qiskit-aer==0.6.1->qiskit) (2.5.0)\n",
            "Requirement already satisfied: joblib>=0.11 in /usr/local/lib/python3.6/dist-packages (from scikit-learn>=0.17->qiskit-ignis==0.4.0->qiskit) (0.16.0)\n",
            "Requirement already satisfied: mpmath>=0.19 in /usr/local/lib/python3.6/dist-packages (from sympy>=1.3->qiskit-aqua==0.7.5->qiskit) (1.1.0)\n",
            "Requirement already satisfied: decorator>=4.3.0 in /usr/local/lib/python3.6/dist-packages (from networkx>=2.2->qiskit-aqua==0.7.5->qiskit) (4.4.2)\n",
            "Requirement already satisfied: six in /usr/local/lib/python3.6/dist-packages (from h5py->qiskit-aqua==0.7.5->qiskit) (1.15.0)\n",
            "Requirement already satisfied: pytz>=2017.2 in /usr/local/lib/python3.6/dist-packages (from pandas->qiskit-aqua==0.7.5->qiskit) (2018.9)\n",
            "Requirement already satisfied: more-itertools in /usr/local/lib/python3.6/dist-packages (from quandl->qiskit-aqua==0.7.5->qiskit) (8.5.0)\n",
            "Requirement already satisfied: inflection>=0.3.1 in /usr/local/lib/python3.6/dist-packages (from quandl->qiskit-aqua==0.7.5->qiskit) (0.5.1)\n",
            "Requirement already satisfied: multitasking>=0.0.7 in /usr/local/lib/python3.6/dist-packages (from yfinance->qiskit-aqua==0.7.5->qiskit) (0.0.9)\n",
            "Requirement already satisfied: idna<3,>=2.5 in /usr/local/lib/python3.6/dist-packages (from requests>=2.19->qiskit-ibmq-provider==0.9.0->qiskit) (2.10)\n",
            "Requirement already satisfied: chardet<4,>=3.0.2 in /usr/local/lib/python3.6/dist-packages (from requests>=2.19->qiskit-ibmq-provider==0.9.0->qiskit) (3.0.4)\n",
            "Requirement already satisfied: certifi>=2017.4.17 in /usr/local/lib/python3.6/dist-packages (from requests>=2.19->qiskit-ibmq-provider==0.9.0->qiskit) (2020.6.20)\n",
            "Requirement already satisfied: cryptography>=1.3 in /usr/local/lib/python3.6/dist-packages (from requests-ntlm>=1.1.0->qiskit-ibmq-provider==0.9.0->qiskit) (3.1)\n",
            "Requirement already satisfied: ntlm-auth>=1.0.2 in /usr/local/lib/python3.6/dist-packages (from requests-ntlm>=1.1.0->qiskit-ibmq-provider==0.9.0->qiskit) (1.5.0)\n",
            "Requirement already satisfied: immutables>=0.9 in /usr/local/lib/python3.6/dist-packages (from contextvars>=2.4; python_version < \"3.7\"->qiskit-terra==0.15.2->qiskit) (0.14)\n",
            "Requirement already satisfied: cffi!=1.11.3,>=1.8 in /usr/local/lib/python3.6/dist-packages (from cryptography>=1.3->requests-ntlm>=1.1.0->qiskit-ibmq-provider==0.9.0->qiskit) (1.14.2)\n",
            "Requirement already satisfied: pycparser in /usr/local/lib/python3.6/dist-packages (from cffi!=1.11.3,>=1.8->cryptography>=1.3->requests-ntlm>=1.1.0->qiskit-ibmq-provider==0.9.0->qiskit) (2.20)\n"
          ],
          "name": "stdout"
        }
      ]
    },
    {
      "cell_type": "code",
      "metadata": {
        "id": "1G5rXxI3KkJ2",
        "colab_type": "code",
        "colab": {
          "base_uri": "https://localhost:8080/",
          "height": 34
        },
        "outputId": "766dea83-1a64-46f8-f5ac-8a7020629dad"
      },
      "source": [
        "pip install pylatexenc"
      ],
      "execution_count": 25,
      "outputs": [
        {
          "output_type": "stream",
          "text": [
            "Requirement already satisfied: pylatexenc in /usr/local/lib/python3.6/dist-packages (2.7)\n"
          ],
          "name": "stdout"
        }
      ]
    },
    {
      "cell_type": "code",
      "metadata": {
        "id": "-8XE6aLMKEb_",
        "colab_type": "code",
        "colab": {
          "base_uri": "https://localhost:8080/",
          "height": 118
        },
        "outputId": "573718a9-832e-496b-afd3-01966663b2f2"
      },
      "source": [
        "import qiskit\n",
        "qiskit.__qiskit_version__"
      ],
      "execution_count": 26,
      "outputs": [
        {
          "output_type": "execute_result",
          "data": {
            "text/plain": [
              "{'qiskit': '0.21.0',\n",
              " 'qiskit-aer': '0.6.1',\n",
              " 'qiskit-aqua': '0.7.5',\n",
              " 'qiskit-ibmq-provider': '0.9.0',\n",
              " 'qiskit-ignis': '0.4.0',\n",
              " 'qiskit-terra': '0.15.2'}"
            ]
          },
          "metadata": {
            "tags": []
          },
          "execution_count": 26
        }
      ]
    },
    {
      "cell_type": "markdown",
      "metadata": {
        "id": "ddgOSKkLKEcD",
        "colab_type": "text"
      },
      "source": [
        "\n",
        "\n",
        "\\begin{align}\n",
        "|\\psi \\rangle = \\begin{pmatrix}\n",
        "\\alpha \\\\ \\beta\n",
        "\\end{pmatrix}, \\quad \\text{where } \\sqrt{\\langle \\psi | \\psi \\rangle} = 1. \n",
        "\\end{align}"
      ]
    },
    {
      "cell_type": "markdown",
      "metadata": {
        "id": "fvxuGcbsKEcD",
        "colab_type": "text"
      },
      "source": [
        "Think of Qubit as an Electron:\n",
        "\n",
        "\\begin{align}\n",
        "\\text{spin-up}: \\ |0\\rangle &= \\begin{pmatrix} 1\\\\0 \\end{pmatrix} \\\\\n",
        "\\text{spin-down}: \\ |1\\rangle & = \\begin{pmatrix} 0\\\\1 \\end{pmatrix}\n",
        "\\end{align}"
      ]
    },
    {
      "cell_type": "code",
      "metadata": {
        "id": "8TEay-I4KEcE",
        "colab_type": "code",
        "colab": {}
      },
      "source": [
        "from qiskit import *"
      ],
      "execution_count": 27,
      "outputs": []
    },
    {
      "cell_type": "markdown",
      "metadata": {
        "id": "dP5OH0h8KEcH",
        "colab_type": "text"
      },
      "source": [
        "Another representation is via Bloch Sphere:"
      ]
    },
    {
      "cell_type": "code",
      "metadata": {
        "id": "K9vdccfsKEcH",
        "colab_type": "code",
        "colab": {
          "base_uri": "https://localhost:8080/",
          "height": 410
        },
        "outputId": "a965bfd2-451f-4109-d8a8-3eb72e977d0b"
      },
      "source": [
        "from qiskit.visualization import plot_bloch_vector\n",
        "\n",
        "plot_bloch_vector([0,0,1], title='spinup')"
      ],
      "execution_count": 28,
      "outputs": [
        {
          "output_type": "execute_result",
          "data": {
            "image/png": "[encoded data removed]",
            "text/plain": [
              "<Figure size 360x360 with 1 Axes>"
            ]
          },
          "metadata": {
            "tags": []
          },
          "execution_count": 28
        }
      ]
    },
    {
      "cell_type": "markdown",
      "metadata": {
        "id": "5GvxDpUpKEcL",
        "colab_type": "text"
      },
      "source": [
        "## Spin + / - :\n",
        "\n",
        "\\begin{align}\n",
        "\\text{spin +}: \\ |+\\rangle &= \\begin{pmatrix} 1/\\sqrt{2} \\\\ 1/\\sqrt{2} \\end{pmatrix} = \\frac{1}{\\sqrt{2}} \\left(|0\\rangle + |1\\rangle\\right) \\\\\n",
        "\\text{spin -}: \\ |-\\rangle & = \\begin{pmatrix} 1/\\sqrt{2} \\\\ -1/\\sqrt{2} \\end{pmatrix} = \\frac{1}{\\sqrt{2}} \\left(|0\\rangle - |1\\rangle\\right)\n",
        "\\end{align}"
      ]
    },
    {
      "cell_type": "code",
      "metadata": {
        "id": "-Aa4aQ5oKEcM",
        "colab_type": "code",
        "colab": {
          "base_uri": "https://localhost:8080/",
          "height": 391
        },
        "outputId": "a79e237f-e72a-49f1-8daa-e10f5fc6b389"
      },
      "source": [
        "plot_bloch_vector([1,0,0])"
      ],
      "execution_count": 29,
      "outputs": [
        {
          "output_type": "execute_result",
          "data": {
            "image/png": "[encoded data removed]",
            "text/plain": [
              "<Figure size 360x360 with 1 Axes>"
            ]
          },
          "metadata": {
            "tags": []
          },
          "execution_count": 29
        }
      ]
    },
    {
      "cell_type": "markdown",
      "metadata": {
        "id": "kQXIp8boKEcQ",
        "colab_type": "text"
      },
      "source": [
        "## Basis States"
      ]
    },
    {
      "cell_type": "markdown",
      "metadata": {
        "id": "3bzyprg6KEcR",
        "colab_type": "text"
      },
      "source": [
        "\n",
        "\\begin{align}\n",
        " |0\\rangle &= \\begin{pmatrix} 1\\\\0 \\end{pmatrix} \\\\\n",
        " |1\\rangle & = \\begin{pmatrix} 0\\\\1 \\end{pmatrix}\n",
        "\\end{align}\n",
        "Preapring other states from Basis States:\n",
        "\\begin{align}\n",
        "|00 \\rangle &= |0\\rangle \\otimes |0\\rangle = \\begin{pmatrix} 1\\\\0 \\end{pmatrix} \\otimes \\begin{pmatrix} 1\\\\0 \\end{pmatrix} = \\begin{pmatrix} 1\\\\0\\\\0\\\\0 \\end{pmatrix} \\\\\n",
        "|01 \\rangle &= |0\\rangle \\otimes |1\\rangle = \\begin{pmatrix} 1\\\\0 \\end{pmatrix} \\otimes \\begin{pmatrix} 0\\\\1 \\end{pmatrix} = \\begin{pmatrix} 0\\\\1\\\\0\\\\0 \\end{pmatrix} \\\\\n",
        "|10 \\rangle &= |1\\rangle \\otimes |0\\rangle = \\begin{pmatrix} 0\\\\1 \\end{pmatrix} \\otimes \\begin{pmatrix} 1\\\\0 \\end{pmatrix} = \\begin{pmatrix} 0\\\\0\\\\1\\\\0 \\end{pmatrix} \\\\\n",
        "|11 \\rangle &= |1\\rangle \\otimes |1\\rangle = \\begin{pmatrix} 0\\\\1 \\end{pmatrix} \\otimes \\begin{pmatrix} 0\\\\1 \\end{pmatrix} = \\begin{pmatrix} 0\\\\0\\\\0\\\\1 \\end{pmatrix}\n",
        "\\end{align}"
      ]
    },
    {
      "cell_type": "code",
      "metadata": {
        "id": "EMrgA0zXKEcS",
        "colab_type": "code",
        "colab": {}
      },
      "source": [
        "ket_zero = np.array([[1],[0]])\n",
        "ket_one = np.array([[0],[1]])"
      ],
      "execution_count": 30,
      "outputs": []
    },
    {
      "cell_type": "code",
      "metadata": {
        "id": "ipRbx1CIKEcV",
        "colab_type": "code",
        "colab": {
          "base_uri": "https://localhost:8080/",
          "height": 84
        },
        "outputId": "14bf37fe-08bc-424a-f400-e02dbe1b8412"
      },
      "source": [
        "np.kron(ket_one,ket_zero)"
      ],
      "execution_count": 31,
      "outputs": [
        {
          "output_type": "execute_result",
          "data": {
            "text/plain": [
              "array([[0],\n",
              "       [0],\n",
              "       [1],\n",
              "       [0]])"
            ]
          },
          "metadata": {
            "tags": []
          },
          "execution_count": 31
        }
      ]
    },
    {
      "cell_type": "markdown",
      "metadata": {
        "id": "3Swx1Eo-KEcZ",
        "colab_type": "text"
      },
      "source": [
        "# Quantum Gates and Circuits"
      ]
    },
    {
      "cell_type": "code",
      "metadata": {
        "id": "nbBbRyE6KEca",
        "colab_type": "code",
        "colab": {}
      },
      "source": [
        "from qiskit import *\n",
        "from qiskit.visualization import plot_bloch_multivector"
      ],
      "execution_count": 32,
      "outputs": []
    },
    {
      "cell_type": "markdown",
      "metadata": {
        "id": "l2a9kM_nKEce",
        "colab_type": "text"
      },
      "source": [
        "## Pauli Matrices"
      ]
    },
    {
      "cell_type": "markdown",
      "metadata": {
        "id": "pzyqdPQ1KEcf",
        "colab_type": "text"
      },
      "source": [
        "\\begin{align}\n",
        "I = \\begin{pmatrix} 1&0 \\\\ 0&1 \\end{pmatrix}, \\quad\n",
        "X = \\begin{pmatrix} 0&1 \\\\ 1&0 \\end{pmatrix}, \\quad\n",
        "Y = \\begin{pmatrix} 0&i \\\\ -i&0 \\end{pmatrix}, \\quad\n",
        "Z = \\begin{pmatrix} 1&0 \\\\ 0&-1 \\end{pmatrix} \\quad\n",
        "\\end{align}"
      ]
    },
    {
      "cell_type": "markdown",
      "metadata": {
        "id": "7c5zGUXQKEcf",
        "colab_type": "text"
      },
      "source": [
        "## X-gate"
      ]
    },
    {
      "cell_type": "markdown",
      "metadata": {
        "id": "tQO9oR12KEcg",
        "colab_type": "text"
      },
      "source": [
        "The X-gate is represented by the Pauli-X matrix:\n",
        "\n",
        "$$ X = \\begin{bmatrix} 0 & 1 \\\\ 1 & 0 \\end{bmatrix} = |0\\rangle\\langle1| + |1\\rangle\\langle0| $$\n",
        "\n",
        "Effect a gate has on a qubit: \n",
        "\n",
        "$$ X|0\\rangle = \\begin{bmatrix} 0 & 1 \\\\ 1 & 0 \\end{bmatrix}\\begin{bmatrix} 1 \\\\ 0 \\end{bmatrix} = \\begin{bmatrix} 0 \\\\ 1 \\end{bmatrix} = |1\\rangle$$\n"
      ]
    },
    {
      "cell_type": "code",
      "metadata": {
        "id": "EpryKWLaKEch",
        "colab_type": "code",
        "colab": {
          "base_uri": "https://localhost:8080/",
          "height": 95
        },
        "outputId": "290924c6-54b3-44e0-fa61-0f66bc8dbee8"
      },
      "source": [
        "# Let's do an X-gate on a |0> qubit\n",
        "qc = QuantumCircuit(1)\n",
        "qc.x(0)\n",
        "\n",
        "qc.draw('mpl')"
      ],
      "execution_count": 33,
      "outputs": [
        {
          "output_type": "execute_result",
          "data": {
            "image/png": "[encoded data removed]",
            "text/plain": [
              "<Figure size 187.706x84.28 with 1 Axes>"
            ]
          },
          "metadata": {
            "tags": []
          },
          "execution_count": 33
        }
      ]
    },
    {
      "cell_type": "code",
      "metadata": {
        "scrolled": true,
        "id": "1EGKLWDSKEcm",
        "colab_type": "code",
        "colab": {
          "base_uri": "https://localhost:8080/",
          "height": 34
        },
        "outputId": "950c74b3-5b91-403a-f875-cae0b50662f3"
      },
      "source": [
        "# Let's see the result\n",
        "backend = Aer.get_backend('statevector_simulator')\n",
        "out= execute(qc,backend).result().get_statevector()\n",
        "print(out)"
      ],
      "execution_count": 34,
      "outputs": [
        {
          "output_type": "stream",
          "text": [
            "[0.+0.j 1.+0.j]\n"
          ],
          "name": "stdout"
        }
      ]
    },
    {
      "cell_type": "markdown",
      "metadata": {
        "id": "8MD_gWFEKEcp",
        "colab_type": "text"
      },
      "source": [
        "## Z & Y-Gate"
      ]
    },
    {
      "cell_type": "markdown",
      "metadata": {
        "id": "heD52XPnKEcp",
        "colab_type": "text"
      },
      "source": [
        "\n",
        "\n",
        "$$ Y = \\begin{bmatrix} 0 & -i \\\\ i & 0 \\end{bmatrix} \\quad\\quad\\quad\\quad Z = \\begin{bmatrix} 1 & 0 \\\\ 0 & -1 \\end{bmatrix} $$\n",
        "\n",
        "$$ Y = -i|0\\rangle\\langle1| + i|1\\rangle\\langle0| \\quad\\quad Z = |0\\rangle\\langle0| - |1\\rangle\\langle1| $$\n",
        "\n",
        "\n"
      ]
    },
    {
      "cell_type": "code",
      "metadata": {
        "id": "IKko8H6BKEcq",
        "colab_type": "code",
        "colab": {
          "base_uri": "https://localhost:8080/",
          "height": 95
        },
        "outputId": "bb92fa78-28a4-4d29-d8c6-2b2ec7732e69"
      },
      "source": [
        "# Do Y-gate on qubit 0\n",
        "qc.y(0)\n",
        "# Do Z-gate on qubit 0\n",
        "qc.z(0)\n",
        "\n",
        "qc.draw('mpl')\n"
      ],
      "execution_count": 35,
      "outputs": [
        {
          "output_type": "execute_result",
          "data": {
            "image/png": "[encoded data removed]",
            "text/plain": [
              "<Figure size 308.106x84.28 with 1 Axes>"
            ]
          },
          "metadata": {
            "tags": []
          },
          "execution_count": 35
        }
      ]
    },
    {
      "cell_type": "markdown",
      "metadata": {
        "id": "Bp3q7ALmKEcs",
        "colab_type": "text"
      },
      "source": [
        "## Hadamard Gate"
      ]
    },
    {
      "cell_type": "markdown",
      "metadata": {
        "id": "XKhiqoD6KEct",
        "colab_type": "text"
      },
      "source": [
        "\n",
        "\n",
        "$$ H = \\tfrac{1}{\\sqrt{2}}\\begin{bmatrix} 1 & 1 \\\\ 1 & -1 \\end{bmatrix} $$\n",
        "\n",
        "We can see that this performs the transformations below:\n",
        "\n",
        "$$ H|0\\rangle = |+\\rangle $$\n",
        "\n",
        "$$ H|1\\rangle = |-\\rangle $$"
      ]
    },
    {
      "cell_type": "code",
      "metadata": {
        "id": "CDRf4M3RKEcu",
        "colab_type": "code",
        "colab": {
          "base_uri": "https://localhost:8080/",
          "height": 185
        },
        "outputId": "46e0af1a-3c88-4b9f-aec4-891a0eac7b3b"
      },
      "source": [
        "#create circuit with three qubit\n",
        "qc =  QuantumCircuit(3)\n",
        "# Apply H-gate to each qubit:\n",
        "for qubit in range(3):\n",
        "    qc.h(qubit)\n",
        "# See the circuit:\n",
        "qc.draw('mpl')"
      ],
      "execution_count": 36,
      "outputs": [
        {
          "output_type": "execute_result",
          "data": {
            "image/png": "[encoded data removed]",
            "text/plain": [
              "<Figure size 200.977x204.68 with 1 Axes>"
            ]
          },
          "metadata": {
            "tags": []
          },
          "execution_count": 36
        }
      ]
    },
    {
      "cell_type": "markdown",
      "metadata": {
        "id": "7gp_IzGgKEcy",
        "colab_type": "text"
      },
      "source": [
        "## Identity Gate"
      ]
    },
    {
      "cell_type": "markdown",
      "metadata": {
        "id": "R5e6IqZIKEcz",
        "colab_type": "text"
      },
      "source": [
        "\n",
        "\n",
        "$$\n",
        "I = \\begin{bmatrix} 1 & 0 \\\\ 0 & 1\\end{bmatrix}\n",
        "$$\n",
        "\n",
        "\n",
        "\n",
        "$$ I = XX $$\n",
        "\n"
      ]
    },
    {
      "cell_type": "code",
      "metadata": {
        "id": "MWfU-DT6KEc0",
        "colab_type": "code",
        "colab": {
          "base_uri": "https://localhost:8080/",
          "height": 185
        },
        "outputId": "d6667b9b-ad8e-4833-a1f2-80dfdf82e3e9"
      },
      "source": [
        "qc.i(0)\n",
        "\n",
        "qc.draw('mpl')"
      ],
      "execution_count": 37,
      "outputs": [
        {
          "output_type": "execute_result",
          "data": {
            "image/png": "[encoded data removed]",
            "text/plain": [
              "<Figure size 261.177x204.68 with 1 Axes>"
            ]
          },
          "metadata": {
            "tags": []
          },
          "execution_count": 37
        }
      ]
    },
    {
      "cell_type": "markdown",
      "metadata": {
        "id": "pNiSnINpKEc5",
        "colab_type": "text"
      },
      "source": [
        " ** Other Gates: S-gate , T-gate, U-gate"
      ]
    },
    {
      "cell_type": "markdown",
      "metadata": {
        "id": "9ERMo-kqKEc6",
        "colab_type": "text"
      },
      "source": [
        "# Multiple Qubits, Entanglement"
      ]
    },
    {
      "cell_type": "markdown",
      "metadata": {
        "id": "7_UY0KMnKEc7",
        "colab_type": "text"
      },
      "source": [
        "## Multiple Qubits"
      ]
    },
    {
      "cell_type": "markdown",
      "metadata": {
        "id": "4zAoRCnsKEc8",
        "colab_type": "text"
      },
      "source": [
        "The state of two qubits :\n",
        "\n",
        "$$ |psi\\rangle = a_{00}|00\\rangle + a_{01}|01\\rangle + a_{10}|10\\rangle + a_{11}|11\\rangle = \\begin{bmatrix} a_{00} \\\\ a_{01} \\\\ a_{10} \\\\ a_{11} \\end{bmatrix} $$"
      ]
    },
    {
      "cell_type": "code",
      "metadata": {
        "id": "9a3NV_zvKEc8",
        "colab_type": "code",
        "colab": {}
      },
      "source": [
        "from qiskit import *"
      ],
      "execution_count": 38,
      "outputs": []
    },
    {
      "cell_type": "code",
      "metadata": {
        "id": "gHGPXlvVKEdE",
        "colab_type": "code",
        "colab": {
          "base_uri": "https://localhost:8080/",
          "height": 185
        },
        "outputId": "633d0312-fbec-4237-db3f-01df8656c9c0"
      },
      "source": [
        "qc = QuantumCircuit(3)\n",
        "# Apply H-gate to each qubit:\n",
        "for qubit in range(3):\n",
        "    qc.h(qubit)\n",
        "# See the circuit:\n",
        "qc.draw('mpl')"
      ],
      "execution_count": 39,
      "outputs": [
        {
          "output_type": "execute_result",
          "data": {
            "image/png": "[encoded data removed]",
            "text/plain": [
              "<Figure size 200.977x204.68 with 1 Axes>"
            ]
          },
          "metadata": {
            "tags": []
          },
          "execution_count": 39
        }
      ]
    },
    {
      "cell_type": "markdown",
      "metadata": {
        "id": "uYx005GfKEdI",
        "colab_type": "text"
      },
      "source": [
        "Each qubit is in the state $|+\\rangle$, so we should see the vector:\n",
        "\n",
        "$$ \n",
        "|{+++}\\rangle = \\frac{1}{\\sqrt{8}}\\begin{bmatrix} 1 \\\\ 1 \\\\ 1 \\\\ 1 \\\\\n",
        "                              1 \\\\ 1 \\\\ 1 \\\\ 1 \\\\\n",
        "              \\end{bmatrix}\n",
        "$$"
      ]
    },
    {
      "cell_type": "code",
      "metadata": {
        "id": "rV8fD62zKEdJ",
        "colab_type": "code",
        "colab": {
          "base_uri": "https://localhost:8080/",
          "height": 50
        },
        "outputId": "78834747-6c4e-41fe-9271-984b49ffa530"
      },
      "source": [
        "# Let's see the result\n",
        "backend = Aer.get_backend('statevector_simulator')\n",
        "out = execute(qc, backend).result().get_statevector()\n",
        "print(out)"
      ],
      "execution_count": 40,
      "outputs": [
        {
          "output_type": "stream",
          "text": [
            "[0.35355339+0.j 0.35355339+0.j 0.35355339+0.j 0.35355339+0.j\n",
            " 0.35355339+0.j 0.35355339+0.j 0.35355339+0.j 0.35355339+0.j]\n"
          ],
          "name": "stdout"
        }
      ]
    },
    {
      "cell_type": "code",
      "metadata": {
        "id": "ShGFMAoxKEdc",
        "colab_type": "code",
        "colab": {
          "base_uri": "https://localhost:8080/",
          "height": 140
        },
        "outputId": "a5b1f33f-0da2-4c9a-9ed1-bf90b68220bf"
      },
      "source": [
        "qc = QuantumCircuit(2)\n",
        "qc.h(0)\n",
        "qc.x(1)\n",
        "qc.draw('mpl')"
      ],
      "execution_count": 41,
      "outputs": [
        {
          "output_type": "execute_result",
          "data": {
            "image/png": "[encoded data removed]",
            "text/plain": [
              "<Figure size 200.832x144.48 with 1 Axes>"
            ]
          },
          "metadata": {
            "tags": []
          },
          "execution_count": 41
        }
      ]
    },
    {
      "cell_type": "markdown",
      "metadata": {
        "id": "uy5nrE2HKEdh",
        "colab_type": "text"
      },
      "source": [
        "\n",
        "\n",
        "$$\n",
        "X|q_1\\rangle \\otimes H|q_0\\rangle = (X\\otimes H)|q_1 q_0\\rangle\n",
        "$$\n",
        "\n",
        "The operation looks like this:\n",
        "\n",
        "$$\n",
        "X\\otimes H = \\begin{bmatrix} 0 & 1 \\\\ 1 & 0 \\end{bmatrix} \\otimes \\tfrac{1}{\\sqrt{2}}\\begin{bmatrix} 1 & 1 \\\\ 1 & -1 \\end{bmatrix} = \\frac{1}{\\sqrt{2}}\n",
        "\\begin{bmatrix} 0 & 0 & 1 & 1 \\\\\n",
        "                0 & 0 & 1 & -1 \\\\\n",
        "                1 & 1 & 0 & 0 \\\\\n",
        "                1 & -1 & 0 & 0 \\\\\n",
        "\\end{bmatrix}\n",
        "$$\n",
        "\n",
        "Which we can then apply to our 4D statevector $|q_1 q_0\\rangle$. You will often see the clearer notation:\n",
        "\n",
        "$$\n",
        "X\\otimes H = \n",
        "\\begin{bmatrix} 0 & H \\\\\n",
        "               H & 0\\\\\n",
        "\\end{bmatrix}\n",
        "$$"
      ]
    },
    {
      "cell_type": "markdown",
      "metadata": {
        "id": "voxnJUQzKEdi",
        "colab_type": "text"
      },
      "source": [
        "## C-Not Gate"
      ]
    },
    {
      "cell_type": "code",
      "metadata": {
        "id": "SNj24aXHKEdi",
        "colab_type": "code",
        "colab": {
          "base_uri": "https://localhost:8080/",
          "height": 140
        },
        "outputId": "393d50bc-01bb-43f4-935b-1aa3e44c1c7c"
      },
      "source": [
        "#create circuit with two qubitqc \n",
        "qc = QuantumCircuit(2)\n",
        "# Apply CNOT\n",
        "qc.cx(0,1)\n",
        "# See the circuit:\n",
        "qc.draw('mpl')"
      ],
      "execution_count": 42,
      "outputs": [
        {
          "output_type": "execute_result",
          "data": {
            "image/png": "[encoded data removed]",
            "text/plain": [
              "<Figure size 200.832x144.48 with 1 Axes>"
            ]
          },
          "metadata": {
            "tags": []
          },
          "execution_count": 42
        }
      ]
    },
    {
      "cell_type": "markdown",
      "metadata": {
        "id": "1ZhLnSF2KEdm",
        "colab_type": "text"
      },
      "source": [
        "Classical truth table of C-Not gate:\n",
        "\n",
        "| Input (t,c) | Output (t,c) |\n",
        "|:-----------:|:------------:|\n",
        "| 00          | 00           |\n",
        "| 01          | 11           |\n",
        "| 10          | 10           |\n",
        "| 11          | 01           |\n",
        "\n"
      ]
    },
    {
      "cell_type": "markdown",
      "metadata": {
        "id": "qm1emNOtKEdn",
        "colab_type": "text"
      },
      "source": [
        "## Entanglement"
      ]
    },
    {
      "cell_type": "code",
      "metadata": {
        "id": "B_CE1it-KEdn",
        "colab_type": "code",
        "colab": {
          "base_uri": "https://localhost:8080/",
          "height": 140
        },
        "outputId": "3a31012d-02cc-4a61-c49a-928770e0b21f"
      },
      "source": [
        "#create two qubit circuit\n",
        "qc =  QuantumCircuit(2)\n",
        "# Apply H-gate to the first:\n",
        "qc.h(0)\n",
        "qc.draw('mpl')"
      ],
      "execution_count": 43,
      "outputs": [
        {
          "output_type": "execute_result",
          "data": {
            "image/png": "[encoded data removed]",
            "text/plain": [
              "<Figure size 200.832x144.48 with 1 Axes>"
            ]
          },
          "metadata": {
            "tags": []
          },
          "execution_count": 43
        }
      ]
    },
    {
      "cell_type": "code",
      "metadata": {
        "scrolled": true,
        "id": "hb5STNBuKEdr",
        "colab_type": "code",
        "colab": {
          "base_uri": "https://localhost:8080/",
          "height": 34
        },
        "outputId": "461ec19f-03c8-472e-d5cf-d104bc0cd8aa"
      },
      "source": [
        "# Let's see the result:\n",
        "backend = Aer.get_backend('statevector_simulator')\n",
        "final_state =  execute(qc, backend).result().get_statevector()\n",
        "print(final_state)"
      ],
      "execution_count": 44,
      "outputs": [
        {
          "output_type": "stream",
          "text": [
            "[0.70710678+0.j 0.70710678+0.j 0.        +0.j 0.        +0.j]\n"
          ],
          "name": "stdout"
        }
      ]
    },
    {
      "cell_type": "markdown",
      "metadata": {
        "id": "m_nb4owJKEdw",
        "colab_type": "text"
      },
      "source": [
        "Quantum System Sate is:\n",
        "\n",
        "$$\n",
        "|0{+}\\rangle = \\tfrac{1}{\\sqrt{2}}(|00\\rangle + |01\\rangle)\n",
        "$$\n"
      ]
    },
    {
      "cell_type": "code",
      "metadata": {
        "id": "LSldoiKDKEdw",
        "colab_type": "code",
        "colab": {
          "base_uri": "https://localhost:8080/",
          "height": 140
        },
        "outputId": "2decf417-ac07-43f2-9786-429a5073b8c4"
      },
      "source": [
        "\n",
        "# Apply H-gate to the first:\n",
        "\n",
        "# Apply a CNOT:\n",
        "qc.cx(0,1)\n",
        "\n",
        "qc.draw('mpl')\n"
      ],
      "execution_count": 45,
      "outputs": [
        {
          "output_type": "execute_result",
          "data": {
            "image/png": "[encoded data removed]",
            "text/plain": [
              "<Figure size 261.032x144.48 with 1 Axes>"
            ]
          },
          "metadata": {
            "tags": []
          },
          "execution_count": 45
        }
      ]
    },
    {
      "cell_type": "code",
      "metadata": {
        "id": "fylfW0aaKEd0",
        "colab_type": "code",
        "colab": {
          "base_uri": "https://localhost:8080/",
          "height": 34
        },
        "outputId": "c0948669-8063-4a68-969b-2d075146f3c7"
      },
      "source": [
        "# Let's see the result:\n",
        "final_state =  execute(qc, backend).result().get_statevector()\n",
        "print(final_state)"
      ],
      "execution_count": 46,
      "outputs": [
        {
          "output_type": "stream",
          "text": [
            "[0.70710678+0.j 0.        +0.j 0.        +0.j 0.70710678+0.j]\n"
          ],
          "name": "stdout"
        }
      ]
    },
    {
      "cell_type": "markdown",
      "metadata": {
        "id": "0B-Xizn-KEd2",
        "colab_type": "text"
      },
      "source": [
        "We see we have this final state (Bell State):\n",
        "\n",
        "$$\n",
        "\\text{CNOT}|0{+}\\rangle = \\tfrac{1}{\\sqrt{2}}(|00\\rangle + |11\\rangle)\n",
        "$$ \n",
        "\n"
      ]
    },
    {
      "cell_type": "markdown",
      "metadata": {
        "id": "9t3IRQsbKEd2",
        "colab_type": "text"
      },
      "source": [
        "Other Bell States:"
      ]
    },
    {
      "cell_type": "markdown",
      "metadata": {
        "id": "isbTTOz5KEd3",
        "colab_type": "text"
      },
      "source": [
        "# Bernstein-Vazirani Algorithm"
      ]
    },
    {
      "cell_type": "markdown",
      "metadata": {
        "id": "eNubt30-KEd3",
        "colab_type": "text"
      },
      "source": [
        "\n",
        "A black-box function $f$, which takes as input a string of bits ($x$), and returns either $0$ or $1$, that is:\n",
        "\n",
        "\n",
        "\n",
        "\n",
        "\n",
        "\n",
        "\n",
        "$$f(\\{x_0,x_1,x_2,...\\}) \\rightarrow 0 \\textrm{ or } 1 \\textrm{ where } x_n \\textrm{ is }0 \\textrm{ or } 1  $$ \n",
        "\n",
        "The function is guaranteed to return the bitwise product of the input with some string, $s$. \n"
      ]
    },
    {
      "cell_type": "markdown",
      "metadata": {
        "id": "4j0B_cAFKEd3",
        "colab_type": "text"
      },
      "source": [
        "In other words, given an input $x$, $f(x) = s \\cdot x \\, \\text{(mod 2)} =\\ x_0 * s_0+x_1*s_1+x_2*s_2+...\\ $ mod 2"
      ]
    },
    {
      "cell_type": "markdown",
      "metadata": {
        "id": "c9sSkvZOKEd4",
        "colab_type": "text"
      },
      "source": [
        "The quantum Bernstein-Vazirani Oracle:\n",
        "    \n",
        "1. Initialise the inputs qubits to the $|0\\rangle^{\\otimes n}$ state, and output qubit to $|{-}\\rangle$.\n",
        "2. Apply Hadamard gates to the input register\n",
        "3. Query the oracle\n",
        "4. Apply Hadamard gates to the input register\n",
        "5. Measure"
      ]
    },
    {
      "cell_type": "markdown",
      "metadata": {
        "id": "ROAYKLwZKEd4",
        "colab_type": "text"
      },
      "source": [
        "## Example Two Qubits:\n",
        "\n",
        "<ol>\n",
        "    <li> The register of two qubits is initialized to zero:\n",
        "    \n",
        "\n",
        "$$\\lvert \\psi_0 \\rangle = \\lvert 0 0 \\rangle$$\n",
        "\n",
        " \n",
        "   </li>\n",
        "\n",
        "   <li> Apply a Hadamard gate to both qubits:\n",
        "    \n",
        "\n",
        "$$\\lvert \\psi_1 \\rangle = \\frac{1}{2} \\left( \\lvert 0 0 \\rangle + \\lvert 0 1 \\rangle + \\lvert 1 0 \\rangle + \\lvert 1 1 \\rangle \\right) $$\n",
        "\n",
        " \n",
        "   </li>\n",
        "\n",
        "   <li> For the string $s=11$, the quantum oracle performs the operation:\n",
        "$$\n",
        "|x \\rangle \\xrightarrow{f_s} (-1)^{x\\cdot 11} |x \\rangle. \n",
        "$$\n",
        "\n",
        "$$\\lvert \\psi_2 \\rangle = \\frac{1}{2} \\left( (-1)^{00\\cdot 11}|00\\rangle + (-1)^{01\\cdot 11}|01\\rangle + (-1)^{10\\cdot 11}|10\\rangle + (-1)^{11\\cdot 11}|11\\rangle \\right)$$\n",
        "\n",
        "$$\\lvert \\psi_2 \\rangle = \\frac{1}{2} \\left( \\lvert 0 0 \\rangle - \\lvert 0 1 \\rangle - \\lvert 1 0 \\rangle + \\lvert 1 1 \\rangle \\right)$$\n",
        "\n",
        " \n",
        "   </li>\n",
        "\n",
        "   <li> Apply a Hadamard gate to both qubits:\n",
        "    \n",
        "\n",
        "$$\\lvert \\psi_3 \\rangle = \\lvert 1 1 \\rangle$$\n",
        "\n",
        " \n",
        "   </li>\n",
        "\n",
        "   <li> Measure to find the secret string $s=11$\n",
        "   </li>\n",
        "\n",
        "\n",
        "</ol>\n"
      ]
    },
    {
      "cell_type": "code",
      "metadata": {
        "id": "-1oca_zMKEd5",
        "colab_type": "code",
        "colab": {}
      },
      "source": [
        "from qiskit import *\n",
        "%matplotlib inline\n",
        "from qiskit.tools.visualization import plot_histogram"
      ],
      "execution_count": 47,
      "outputs": []
    },
    {
      "cell_type": "code",
      "metadata": {
        "id": "UUic_TadKEd8",
        "colab_type": "code",
        "colab": {}
      },
      "source": [
        "s= 101011"
      ],
      "execution_count": 48,
      "outputs": []
    },
    {
      "cell_type": "code",
      "metadata": {
        "id": "6hERk4U9KEd_",
        "colab_type": "code",
        "colab": {
          "base_uri": "https://localhost:8080/",
          "height": 34
        },
        "outputId": "ccbfb865-c34d-4655-b862-f15942cef78f"
      },
      "source": [
        "qc = QuantumCircuit(6+1,6)\n",
        "qc.h([0,1,2,3,4,5])\n",
        "\n",
        "qc.x(6)\n",
        "qc.h(6)\n",
        "\n",
        "qc.barrier()\n",
        "\n",
        "qc.cx(5,6)\n",
        "qc.cx(3,6)\n",
        "qc.cx(1,6)\n",
        "qc.cx(0,6)\n",
        "\n",
        "qc.barrier()\n",
        "\n",
        "qc.h([0,1,2,3,4,5])\n",
        "\n",
        "\n",
        "qc.measure([0,1,2,3,4,5],[0,1,2,3,4,5])"
      ],
      "execution_count": 49,
      "outputs": [
        {
          "output_type": "execute_result",
          "data": {
            "text/plain": [
              "<qiskit.circuit.instructionset.InstructionSet at 0x7ff8c91cf668>"
            ]
          },
          "metadata": {
            "tags": []
          },
          "execution_count": 49
        }
      ]
    },
    {
      "cell_type": "code",
      "metadata": {
        "id": "rML65SXOKEeB",
        "colab_type": "code",
        "colab": {
          "base_uri": "https://localhost:8080/",
          "height": 413
        },
        "outputId": "d7c76dfc-e422-4975-f9a9-f314867f0d8e"
      },
      "source": [
        "qc.draw('mpl')"
      ],
      "execution_count": 50,
      "outputs": [
        {
          "output_type": "execute_result",
          "data": {
            "image/png": "[encoded data removed]",
            "text/plain": [
              "<Figure size 1043.78x505.68 with 1 Axes>"
            ]
          },
          "metadata": {
            "tags": []
          },
          "execution_count": 50
        }
      ]
    },
    {
      "cell_type": "code",
      "metadata": {
        "id": "lwl49jNwKEeD",
        "colab_type": "code",
        "colab": {}
      },
      "source": [
        "simulator = Aer.get_backend('qasm_simulator')\n",
        "result = execute(qc, backend = simulator, shots =1)"
      ],
      "execution_count": 52,
      "outputs": []
    },
    {
      "cell_type": "code",
      "metadata": {
        "id": "11Aq-51aKEec",
        "colab_type": "code",
        "colab": {}
      },
      "source": [
        ""
      ],
      "execution_count": null,
      "outputs": []
    }
  ]
}